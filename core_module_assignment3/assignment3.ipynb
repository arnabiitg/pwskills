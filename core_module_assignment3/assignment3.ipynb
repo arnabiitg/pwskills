{
  "nbformat": 4,
  "nbformat_minor": 0,
  "metadata": {
    "colab": {
      "provenance": []
    },
    "kernelspec": {
      "name": "python3",
      "display_name": "Python 3"
    },
    "language_info": {
      "name": "python"
    }
  },
  "cells": [
    {
      "cell_type": "markdown",
      "source": [
        "1. Scenario: A company wants to analyze the sales performance of its products in different regions. They have collected the following data:\n",
        "   Region A: [10, 15, 12, 8, 14]\n",
        "   Region B: [18, 20, 16, 22, 25]\n",
        "   Calculate the mean sales for each region.\n"
      ],
      "metadata": {
        "id": "pPoJ8GVJW3Bq"
      }
    },
    {
      "cell_type": "markdown",
      "source": [
        "To calculate the mean sales for each region, you need to sum up the sales values and divide by the number of data points in each region.\n",
        "\n",
        "For Region A:\n",
        "Sales data: [10, 15, 12, 8, 14]\n",
        "Mean sales = (10 + 15 + 12 + 8 + 14) / 5 = 59 / 5 = 11.8\n",
        "\n",
        "For Region B:\n",
        "Sales data: [18, 20, 16, 22, 25]\n",
        "Mean sales = (18 + 20 + 16 + 22 + 25) / 5 = 101 / 5 = 20.2\n",
        "\n",
        "Therefore, the mean sales for Region A is 11.8 and for Region B is 20.2."
      ],
      "metadata": {
        "id": "LEl0ETh2W70Z"
      }
    },
    {
      "cell_type": "markdown",
      "source": [
        "2. Scenario: A survey is conducted to measure customer satisfaction on a scale of 1 to 5. The data collected is as follows:\n",
        "   [4, 5, 2, 3, 5, 4, 3, 2, 4, 5]\n",
        "   Calculate the mode of the survey responses.\n"
      ],
      "metadata": {
        "id": "EznN1Vq0XDmi"
      }
    },
    {
      "cell_type": "markdown",
      "source": [
        "To calculate the mode of the survey responses, you need to determine the value that appears most frequently in the dataset.\n",
        "\n",
        "The survey responses data is: [4, 5, 2, 3, 5, 4, 3, 2, 4, 5]\n",
        "\n",
        "In this case, the mode is the value that appears the highest number of times. In the given dataset, both 4 and 5 appear three times each, which is the highest frequency. Therefore, the mode of the survey responses is 4 and 5."
      ],
      "metadata": {
        "id": "DrQHPJv4XBbq"
      }
    },
    {
      "cell_type": "markdown",
      "source": [
        "3. Scenario: A company wants to compare the salaries of two departments. The salary data for Department A and Department B are as follows:\n",
        "   Department A: [5000, 6000, 5500, 7000]\n",
        "   Department B: [4500, 5500, 5800, 6000, 5200]\n",
        "   Calculate the median salary for each department.\n"
      ],
      "metadata": {
        "id": "M12BAKlKXEqR"
      }
    },
    {
      "cell_type": "markdown",
      "source": [
        "To calculate the median salary for each department, you need to arrange the salary values in ascending order and find the middle value.\n",
        "\n",
        "For Department A:\n",
        "Salary data: [5000, 6000, 5500, 7000]\n",
        "Arranging in ascending order: [5000, 5500, 6000, 7000]\n",
        "Since the number of data points is even, the median is the average of the two middle values:\n",
        "Median salary = (5500 + 6000) / 2 = 11500 / 2 = 5750\n",
        "\n",
        "For Department B:\n",
        "Salary data: [4500, 5500, 5800, 6000, 5200]\n",
        "Arranging in ascending order: [4500, 5200, 5500, 5800, 6000]\n",
        "Since the number of data points is odd, the median is the middle value:\n",
        "Median salary = 5500\n",
        "\n",
        "Therefore, the median salary for Department A is 5750 and for Department B is 5500."
      ],
      "metadata": {
        "id": "jVvgVZBBXHt5"
      }
    },
    {
      "cell_type": "markdown",
      "source": [
        "4. Scenario: A data analyst wants to determine the variability in the daily stock prices of a company. The data collected is as follows:\n",
        "   [25.5, 24.8, 26.1, 25.3, 24.9]\n",
        "   Calculate the range of the stock prices.\n"
      ],
      "metadata": {
        "id": "HoqDSb40XNq4"
      }
    },
    {
      "cell_type": "markdown",
      "source": [
        "To calculate the range of the stock prices, you need to find the difference between the highest and lowest values in the dataset.\n",
        "\n",
        "The stock price data is: [25.5, 24.8, 26.1, 25.3, 24.9]\n",
        "\n",
        "To determine the range, we first arrange the data in ascending order:\n",
        "[24.8, 24.9, 25.3, 25.5, 26.1]\n",
        "\n",
        "The highest value is 26.1, and the lowest value is 24.8. Therefore, the range of the stock prices is calculated as:\n",
        "Range = Highest Value - Lowest Value = 26.1 - 24.8 = 1.3\n",
        "\n",
        "Hence, the range of the daily stock prices is 1.3."
      ],
      "metadata": {
        "id": "OMxyuJlsXUvA"
      }
    },
    {
      "cell_type": "markdown",
      "source": [
        "5. Scenario: A study is conducted to compare the performance of two different teaching methods. The test scores of the students in each group are as follows:\n",
        "   Group A: [85, 90, 92, 88, 91]\n",
        "   Group B: [82, 88, 90, 86, 87]\n",
        "   Perform a t-test to determine if there is a significant difference in the mean scores between the two groups.\n"
      ],
      "metadata": {
        "id": "CqG4l5mCXbww"
      }
    },
    {
      "cell_type": "markdown",
      "source": [
        "To perform a t-test and determine if there is a significant difference in the mean scores between the two groups, we can use the independent samples t-test.\n",
        "\n",
        "The test scores for Group A are: [85, 90, 92, 88, 91]\n",
        "The test scores for Group B are: [82, 88, 90, 86, 87]\n",
        "\n",
        "First, we calculate the means and standard deviations for each group:\n",
        "\n",
        "Group A:\n",
        "Mean (μA) = (85 + 90 + 92 + 88 + 91) / 5 = 446 / 5 = 89.2\n",
        "Standard Deviation (σA) = sqrt(((85-89.2)^2 + (90-89.2)^2 + (92-89.2)^2 + (88-89.2)^2 + (91-89.2)^2) / (5-1)) ≈ 2.17\n",
        "\n",
        "Group B:\n",
        "Mean (μB) = (82 + 88 + 90 + 86 + 87) / 5 = 433 / 5 = 86.6\n",
        "Standard Deviation (σB) = sqrt(((82-86.6)^2 + (88-86.6)^2 + (90-86.6)^2 + (86-86.6)^2 + (87-86.6)^2) / (5-1)) ≈ 2.68\n",
        "\n",
        "Next, we calculate the t-value using the formula:\n",
        "t = (μA - μB) / sqrt((σA^2/nA) + (σB^2/nB))\n",
        "\n",
        "t = (89.2 - 86.6) / sqrt((2.17^2/5) + (2.68^2/5))\n",
        "t ≈ 2.34\n",
        "\n",
        "Finally, we compare the calculated t-value with the critical t-value at a chosen significance level (e.g., α = 0.05). The critical t-value is obtained from the t-distribution table with degrees of freedom equal to (nA + nB - 2).\n",
        "\n",
        "Since the degrees of freedom in this case are (5 + 5 - 2) = 8, the critical t-value at α = 0.05 is approximately 2.306.\n",
        "\n",
        "As the calculated t-value (2.34) is greater than the critical t-value (2.306), we can conclude that there is a significant difference in the mean scores between the two groups."
      ],
      "metadata": {
        "id": "w4ZPMkWFXf7H"
      }
    },
    {
      "cell_type": "markdown",
      "source": [
        "6. Scenario: A company wants to analyze the relationship between advertising expenditure and sales. The data collected is as follows:\n",
        "   Advertising Expenditure (in thousands): [10, 15, 12, 8, 14]\n",
        "   Sales (in thousands): [25, 30, 28, 20, 26]\n",
        "   Calculate the correlation coefficient between advertising expenditure and sales.\n"
      ],
      "metadata": {
        "id": "ZphPjtPNXmoO"
      }
    },
    {
      "cell_type": "markdown",
      "source": [
        "To calculate the correlation coefficient between advertising expenditure and sales, we can use the Pearson correlation coefficient formula.\n",
        "\n",
        "The advertising expenditure data (in thousands) is: [10, 15, 12, 8, 14]\n",
        "The sales data (in thousands) is: [25, 30, 28, 20, 26]\n",
        "\n",
        "First, we calculate the means for both datasets:\n",
        "Mean of advertising expenditure (μX) = (10 + 15 + 12 + 8 + 14) / 5 = 59 / 5 = 11.8\n",
        "Mean of sales (μY) = (25 + 30 + 28 + 20 + 26) / 5 = 129 / 5 = 25.8\n",
        "\n",
        "Next, we calculate the standard deviations for both datasets:\n",
        "Standard deviation of advertising expenditure (σX) = sqrt(((10-11.8)^2 + (15-11.8)^2 + (12-11.8)^2 + (8-11.8)^2 + (14-11.8)^2) / (5-1)) ≈ 2.07\n",
        "Standard deviation of sales (σY) = sqrt(((25-25.8)^2 + (30-25.8)^2 + (28-25.8)^2 + (20-25.8)^2 + (26-25.8)^2) / (5-1)) ≈ 3.29\n",
        "\n",
        "Then, we calculate the covariance between advertising expenditure and sales:\n",
        "Covariance (covXY) = ((10-11.8)*(25-25.8) + (15-11.8)*(30-25.8) + (12-11.8)*(28-25.8) + (8-11.8)*(20-25.8) + (14-11.8)*(26-25.8)) / (5-1) ≈ -4.4\n",
        "\n",
        "Finally, we can calculate the correlation coefficient (r) using the formula:\n",
        "r = covXY / (σX * σY)\n",
        "\n",
        "r = -4.4 / (2.07 * 3.29) ≈ -0.65\n",
        "\n",
        "The correlation coefficient between advertising expenditure and sales is approximately -0.65. This indicates a moderate negative correlation between the two variables, suggesting that as advertising expenditure increases, sales tend to decrease.\n"
      ],
      "metadata": {
        "id": "agvyei3AXsMo"
      }
    },
    {
      "cell_type": "markdown",
      "source": [
        "7. Scenario: A survey is conducted to measure the heights of a group of people. The data collected is as follows:\n",
        "   [160, 170, 165, 155, 175, 180, 170]\n",
        "   Calculate the standard deviation of the heights.\n"
      ],
      "metadata": {
        "id": "PmJ-GHfxYAqX"
      }
    },
    {
      "cell_type": "markdown",
      "source": [
        "To calculate the standard deviation of the heights, you can follow these steps:\n",
        "\n",
        "1. Calculate the mean (average) of the heights.\n",
        "   Heights data: [160, 170, 165, 155, 175, 180, 170]\n",
        "   Mean (μ) = (160 + 170 + 165 + 155 + 175 + 180 + 170) / 7 = 1175 / 7 ≈ 167.86\n",
        "\n",
        "2. Calculate the squared difference between each height and the mean.\n",
        "   (160 - 167.86)^2 ≈ 63.92\n",
        "   (170 - 167.86)^2 ≈ 4.32\n",
        "   (165 - 167.86)^2 ≈ 8.30\n",
        "   (155 - 167.86)^2 ≈ 170.06\n",
        "   (175 - 167.86)^2 ≈ 52.60\n",
        "   (180 - 167.86)^2 ≈ 148.46\n",
        "   (170 - 167.86)^2 ≈ 4.32\n",
        "\n",
        "3. Calculate the average of the squared differences (variance).\n",
        "   Variance = (63.92 + 4.32 + 8.30 + 170.06 + 52.60 + 148.46 + 4.32) / 7 ≈ 61.40\n",
        "\n",
        "4. Take the square root of the variance to get the standard deviation.\n",
        "   Standard Deviation = sqrt(61.40) ≈ 7.84\n",
        "\n",
        "Therefore, the standard deviation of the heights is approximately 7.84."
      ],
      "metadata": {
        "id": "skCgpoewYKce"
      }
    },
    {
      "cell_type": "markdown",
      "source": [
        "8. Scenario: A company wants to analyze the relationship between employee tenure and job satisfaction. The data collected is as follows:\n",
        "   Employee Tenure (in years): [2, 3, 5, 4, 6, 2, 4]\n",
        "   Job Satisfaction (on a scale of 1 to 10): [7, 8, 6, 9, 5, 7, 6]\n",
        "   Perform a linear regression analysis to predict job satisfaction based on employee tenure."
      ],
      "metadata": {
        "id": "ussCUkONYQS_"
      }
    },
    {
      "cell_type": "markdown",
      "source": [
        "To perform a linear regression analysis and predict job satisfaction based on employee tenure, we can use the least squares method.\n",
        "\n",
        "The employee tenure data (in years) is: [2, 3, 5, 4, 6, 2, 4]\n",
        "The job satisfaction data (on a scale of 1 to 10) is: [7, 8, 6, 9, 5, 7, 6]\n",
        "\n",
        "Step 1: Calculate the means for both datasets:\n",
        "Mean of employee tenure (μX) = (2 + 3 + 5 + 4 + 6 + 2 + 4) / 7 = 26 / 7 ≈ 3.71\n",
        "Mean of job satisfaction (μY) = (7 + 8 + 6 + 9 + 5 + 7 + 6) / 7 = 48 / 7 ≈ 6.86\n",
        "\n",
        "Step 2: Calculate the deviations from the mean for both datasets:\n",
        "Deviation of employee tenure (Xi - μX):\n",
        "[-1.71, -0.71, 1.29, 0.29, 2.29, -1.71, 0.29]\n",
        "Deviation of job satisfaction (Yi - μY):\n",
        "[0.14, 1.14, -0.86, 2.14, -1.86, 0.14, -0.86]\n",
        "\n",
        "Step 3: Calculate the product of the deviations:\n",
        "Product of deviations (Xi - μX)(Yi - μY):\n",
        "[-0.24, -0.81, -1.11, 0.62, -4.26, -0.24, -0.25]\n",
        "\n",
        "Step 4: Calculate the squared deviations of employee tenure:\n",
        "Squared deviation of employee tenure (Xi - μX)^2:\n",
        "[2.93, 0.51, 1.67, 0.08, 5.26, 2.93, 0.08]\n",
        "\n",
        "Step 5: Calculate the sum of squared deviations of employee tenure:\n",
        "Sum of squared deviation of employee tenure:\n",
        "2.93 + 0.51 + 1.67 + 0.08 + 5.26 + 2.93 + 0.08 = 13.46\n",
        "\n",
        "Step 6: Calculate the slope (β1) of the linear regression line:\n",
        "β1 = Σ((Xi - μX)(Yi - μY)) / Σ((Xi - μX)^2)\n",
        "   = (-0.24 - 0.81 - 1.11 + 0.62 - 4.26 - 0.24 - 0.25) / 13.46\n",
        "   ≈ -0.179\n",
        "\n",
        "Step 7: Calculate the y-intercept (β0) of the linear regression line:\n",
        "β0 = μY - β1 * μX\n",
        "   = 6.86 - (-0.179 * 3.71)\n",
        "   ≈ 7.52\n",
        "\n",
        "Therefore, the linear regression equation to predict job satisfaction based on employee tenure is:\n",
        "Job Satisfaction = 7.52 - 0.179 * Employee Tenure\n",
        "\n",
        "By plugging in the values of employee tenure, you can predict job satisfaction levels for different tenure values."
      ],
      "metadata": {
        "id": "RI3vH4QTYTK2"
      }
    },
    {
      "cell_type": "markdown",
      "source": [
        "9. Scenario: A study is conducted to compare the effectiveness of two different medications. The recovery times of the patients in each group are as follows:\n",
        "   Medication A: [10, 12, 14, 11, 13]\n",
        "   Medication B: [15, 17, 16, 14, 18]\n",
        "   Perform an analysis of variance (ANOVA) to determine if there is a significant difference in the mean recovery times between the two medications."
      ],
      "metadata": {
        "id": "0yewrnxvYiTu"
      }
    },
    {
      "cell_type": "markdown",
      "source": [
        "To perform an analysis of variance (ANOVA) and determine if there is a significant difference in the mean recovery times between the two medications, we can use a one-way ANOVA test.\n",
        "\n",
        "The recovery times for Medication A are: [10, 12, 14, 11, 13]\n",
        "The recovery times for Medication B are: [15, 17, 16, 14, 18]\n",
        "\n",
        "Step 1: Calculate the means for each group:\n",
        "Mean recovery time for Medication A (μA) = (10 + 12 + 14 + 11 + 13) / 5 = 60 / 5 = 12\n",
        "Mean recovery time for Medication B (μB) = (15 + 17 + 16 + 14 + 18) / 5 = 80 / 5 = 16\n",
        "\n",
        "Step 2: Calculate the sum of squares between groups (SSG):\n",
        "SSG = nA * (μA - μT)^2 + nB * (μB - μT)^2\n",
        "   = 5 * (12 - 14)^2 + 5 * (16 - 14)^2\n",
        "   = 5 * (-2)^2 + 5 * 2^2\n",
        "   = 20 + 20\n",
        "   = 40\n",
        "\n",
        "Step 3: Calculate the sum of squares within groups (SSW):\n",
        "SSW = Σ(xi - μi)^2\n",
        "   = (10 - 12)^2 + (12 - 12)^2 + (14 - 12)^2 + (11 - 12)^2 + (13 - 12)^2\n",
        "   + (15 - 16)^2 + (17 - 16)^2 + (16 - 16)^2 + (14 - 16)^2 + (18 - 16)^2\n",
        "   = 2^2 + 0^2 + 2^2 + 1^2 + 1^2 + 1^2 + 1^2 + 0^2 + 2^2 + 2^2\n",
        "   = 4 + 0 + 4 + 1 + 1 + 1 + 1 + 0 + 4 + 4\n",
        "   = 20\n",
        "\n",
        "Step 4: Calculate the degrees of freedom:\n",
        "Degrees of freedom between groups (dfG) = k - 1 = 2 - 1 = 1\n",
        "Degrees of freedom within groups (dfW) = N - k = 10 - 2 = 8\n",
        "Total degrees of freedom (dfT) = N - 1 = 10 - 1 = 9\n",
        "\n",
        "Step 5: Calculate the mean squares:\n",
        "Mean square between groups (MSG) = SSG / dfG = 40 / 1 = 40\n",
        "Mean square within groups (MSW) = SSW / dfW = 20 / 8 = 2.5\n",
        "\n",
        "Step 6: Calculate the F-value:\n",
        "F-value = MSG / MSW = 40 / 2.5 = 16\n",
        "\n",
        "Step 7: Compare the F-value to the critical F-value at a chosen significance level (e.g., α = 0.05). The critical F-value is obtained from the F-distribution table with degrees of freedom (dfG, dfW).\n",
        "\n",
        "Since dfG = 1 and dfW = 8, the critical F-value at α = 0.05 is approximately 5.32.\n",
        "\n",
        "As the calculated F-value (16) is greater than the critical F-value (5.32), we can conclude that there is a significant difference in the mean recovery times between the two medications.\n",
        "\n",
        "Therefore, we reject the null hypothesis and infer that there is a statistically significant difference in the mean recovery times between Medication A and Medication B."
      ],
      "metadata": {
        "id": "IByg9Kq7Yj6V"
      }
    },
    {
      "cell_type": "markdown",
      "source": [
        "10. Scenario: A company wants to analyze customer feedback ratings on a scale of 1 to 10. The data collected is\n",
        "\n",
        " as follows:\n",
        "    [8, 9, 7, 6, 8, 10, 9, 8, 7, 8]\n",
        "    Calculate the 75th percentile of the feedback ratings."
      ],
      "metadata": {
        "id": "3sEVm3JTY5jG"
      }
    },
    {
      "cell_type": "markdown",
      "source": [
        "To calculate the 75th percentile of the feedback ratings, you need to arrange the ratings in ascending order and find the value that corresponds to the position at 75% of the data.\n",
        "\n",
        "The feedback ratings data is: [8, 9, 7, 6, 8, 10, 9, 8, 7, 8]\n",
        "\n",
        "First, arrange the data in ascending order:\n",
        "[6, 7, 7, 8, 8, 8, 8, 9, 9, 10]\n",
        "\n",
        "Next, calculate the position of the 75th percentile:\n",
        "75th percentile position = (75/100) * (n + 1)\n",
        "                       = (0.75) * (10 + 1)\n",
        "                       = 8.25\n",
        "\n",
        "Since the position 8.25 is between the 8th and 9th values in the dataset, we take the average of these two values to determine the 75th percentile:\n",
        "75th percentile = (8 + 9) / 2\n",
        "               = 8.5\n",
        "\n",
        "Therefore, the 75th percentile of the feedback ratings is 8.5."
      ],
      "metadata": {
        "id": "wOOSmUy1Y7v2"
      }
    },
    {
      "cell_type": "markdown",
      "source": [
        "11. Scenario: A quality control department wants to test the weight consistency of a product. The weights of a sample of products are as follows:\n",
        "    [10.2, 9.8, 10.0, 10.5, 10.3, 10.1]\n",
        "    Perform a hypothesis test to determine if the mean weight differs significantly from 10 grams\n"
      ],
      "metadata": {
        "id": "S6tDOIcBZCle"
      }
    },
    {
      "cell_type": "markdown",
      "source": [
        "To perform a hypothesis test and determine if the mean weight differs significantly from 10 grams, we can use a one-sample t-test.\n",
        "\n",
        "The weights of the sample of products are: [10.2, 9.8, 10.0, 10.5, 10.3, 10.1]\n",
        "\n",
        "Step 1: Define the null hypothesis (H0) and alternative hypothesis (H1):\n",
        "Null Hypothesis (H0): The mean weight is equal to 10 grams. (μ = 10)\n",
        "Alternative Hypothesis (H1): The mean weight is not equal to 10 grams. (μ ≠ 10)\n",
        "\n",
        "Step 2: Set the significance level (α) for the hypothesis test. For example, α = 0.05.\n",
        "\n",
        "Step 3: Calculate the sample mean (x̄) and sample standard deviation (s) of the weights:\n",
        "Sample mean (x̄) = (10.2 + 9.8 + 10.0 + 10.5 + 10.3 + 10.1) / 6 = 60.9 / 6 = 10.15\n",
        "Sample standard deviation (s) = sqrt(((10.2-10.15)^2 + (9.8-10.15)^2 + (10.0-10.15)^2 + (10.5-10.15)^2 + (10.3-10.15)^2 + (10.1-10.15)^2) / (6-1)) ≈ 0.22\n",
        "\n",
        "Step 4: Calculate the test statistic (t-value):\n",
        "t-value = (x̄ - μ) / (s / sqrt(n))\n",
        "        = (10.15 - 10) / (0.22 / sqrt(6))\n",
        "        ≈ 0.15 / (0.22 / 2.45)\n",
        "        ≈ 0.15 / 0.09\n",
        "        ≈ 1.67\n",
        "\n",
        "Step 5: Determine the critical t-value based on the degrees of freedom (df) and the chosen significance level (α). Since this is a one-sample test, df = n - 1 = 6 - 1 = 5.\n",
        "\n",
        "For a two-tailed test at α = 0.05, the critical t-values are approximately -2.571 and 2.571.\n",
        "\n",
        "Step 6: Compare the test statistic (t-value) with the critical t-values to make a decision:\n",
        "Since the calculated t-value (1.67) does not fall outside the critical t-value range of -2.571 to 2.571, we fail to reject the null hypothesis.\n",
        "\n",
        "Step 7: Draw a conclusion:\n",
        "Based on the hypothesis test, there is not enough evidence to conclude that the mean weight significantly differs from 10 grams."
      ],
      "metadata": {
        "id": "wClpo5SeaCRT"
      }
    },
    {
      "cell_type": "markdown",
      "source": [
        "12. Scenario: A company wants to analyze the click-through rates of two different website designs. The number of clicks for each design is as follows:\n",
        "    Design A: [100, 120, 110, 90, 95]\n",
        "    Design B: [80, 85, 90, 95, 100]\n",
        "    Perform a chi-square test to determine if there is a significant difference in the click-through rates between the two designs.\n"
      ],
      "metadata": {
        "id": "sOfRMKAuaFj0"
      }
    },
    {
      "cell_type": "markdown",
      "source": [
        "To perform a chi-square test and determine if there is a significant difference in the click-through rates between two designs, we can use a chi-square test of independence.\n",
        "\n",
        "The number of clicks for Design A are: [100, 120, 110, 90, 95]\n",
        "The number of clicks for Design B are: [80, 85, 90, 95, 100]\n",
        "\n",
        "Step 1: Create a contingency table that cross-tabulates the click counts for each design:\n",
        "            | Design A | Design B\n",
        "---------------------------------\n",
        "Clicks     |   100    |    80\n",
        "           |   120    |    85\n",
        "           |   110    |    90\n",
        "           |    90    |    95\n",
        "           |    95    |   100\n",
        "\n",
        "Step 2: Calculate the row and column totals for the contingency table:\n",
        "Row totals:\n",
        "Total for Design A = 100 + 120 + 110 + 90 + 95 = 515\n",
        "Total for Design B = 80 + 85 + 90 + 95 + 100 = 450\n",
        "\n",
        "Column totals:\n",
        "Total for Clicks = 100 + 120 + 110 + 90 + 95 + 80 + 85 + 90 + 95 + 100 = 965\n",
        "\n",
        "Step 3: Calculate the expected frequencies for each cell in the contingency table assuming independence:\n",
        "Expected frequency for each cell = (row total * column total) / grand total\n",
        "\n",
        "Expected frequencies:\n",
        "Expected frequency for Design A and Clicks = (515 * 100) / 965 ≈ 53.50\n",
        "Expected frequency for Design A and Clicks = (515 * 120) / 965 ≈ 64.59\n",
        "Expected frequency for Design A and Clicks = (515 * 110) / 965 ≈ 59.95\n",
        "Expected frequency for Design A and Clicks = (515 * 90) / 965 ≈ 48.16\n",
        "Expected frequency for Design A and Clicks = (515 * 95) / 965 ≈ 50.79\n",
        "Expected frequency for Design B and Clicks = (450 * 100) / 965 ≈ 46.88\n",
        "Expected frequency for Design B and Clicks = (450 * 120) / 965 ≈ 59.02\n",
        "Expected frequency for Design B and Clicks = (450 * 110) / 965 ≈ 54.10\n",
        "Expected frequency for Design B and Clicks = (450 * 90) / 965 ≈ 42.19\n",
        "Expected frequency for Design B and Clicks = (450 * 95) / 965 ≈ 44.80\n",
        "\n",
        "Step 4: Calculate the chi-square test statistic:\n",
        "Chi-square test statistic = Σ((observed frequency - expected frequency)^2 / expected frequency)\n",
        "\n",
        "Chi-square test statistic ≈ ((100 - 53.50)^2 / 53.50) + ((120 - 64.59)^2 / 64.59) + ((110 - 59.95)^2 / 59.95) + ((90 - 48.16)^2 / 48.16) + ((95 - 50.79)^2 / 50.79) + ((80 - 46.88)^2 / 46.88) + ((85 - 59.02)^2 / 59.02) + ((90 - 54.10)^2 / 54.10) + ((95 - 42.19)^2 / 42.19) + ((100 - 44.80)^2 / 44.80)\n",
        "\n",
        "Chi-square test statistic ≈ 4.32\n",
        "\n",
        "Step 5: Determine the degrees of freedom (df) for the chi-square test:\n",
        "Degrees of freedom (df) = (number of rows - 1) * (number of columns - 1)\n",
        "                       = (2 - 1) * (5 - 1)\n",
        "                       = 4\n",
        "\n",
        "Step 6: Compare the chi-square test statistic with the critical chi-square value at a chosen significance level (e.g., α = 0.05). The critical chi-square value is obtained from the chi-square distribution table with degrees of freedom (df).\n",
        "\n",
        "Since df = 4, the critical chi-square value at α = 0.05 is approximately 9.49.\n",
        "\n",
        "Step 7: Draw a conclusion:\n",
        "As the calculated chi-square test statistic (4.32) is less than the critical chi-square value (9.49), we fail to reject the null hypothesis.\n",
        "\n",
        "Therefore, based on the chi-square test, there is not enough evidence to conclude that there is a significant difference in the click-through rates between Design A and Design B."
      ],
      "metadata": {
        "id": "kHy3yEYRaVVT"
      }
    },
    {
      "cell_type": "markdown",
      "source": [
        "13. Scenario: A survey is conducted to measure customer satisfaction with a product on a scale of 1 to 10. The data collected is as follows:\n",
        "    [7, 9, 6, 8, 10, 7, 8, 9, 7, 8]\n",
        "    Calculate the 95% confidence interval for the population mean satisfaction score.\n"
      ],
      "metadata": {
        "id": "OMOSUOeGaf-7"
      }
    },
    {
      "cell_type": "markdown",
      "source": [
        "To calculate the 95% confidence interval for the population mean satisfaction score, we can use the t-distribution and the following formula:\n",
        "\n",
        "Confidence interval = sample mean ± (t-value * standard error)\n",
        "\n",
        "The satisfaction scores data is: [7, 9, 6, 8, 10, 7, 8, 9, 7, 8]\n",
        "\n",
        "Step 1: Calculate the sample mean (x̄) and sample standard deviation (s) of the satisfaction scores:\n",
        "Sample mean (x̄) = (7 + 9 + 6 + 8 + 10 + 7 + 8 + 9 + 7 + 8) / 10 = 79 / 10 = 7.9\n",
        "Sample standard deviation (s) = sqrt(((7-7.9)^2 + (9-7.9)^2 + (6-7.9)^2 + (8-7.9)^2 + (10-7.9)^2 + (7-7.9)^2 + (8-7.9)^2 + (9-7.9)^2 + (7-7.9)^2 + (8-7.9)^2) / (10-1)) ≈ 1.13\n",
        "\n",
        "Step 2: Determine the t-value for a 95% confidence interval with (n-1) degrees of freedom. Since the sample size is 10, the degrees of freedom are (10-1) = 9.\n",
        "\n",
        "Using a t-distribution table or statistical software, the t-value for a 95% confidence interval with 9 degrees of freedom is approximately 2.262.\n",
        "\n",
        "Step 3: Calculate the standard error (SE) of the mean:\n",
        "Standard error (SE) = s / sqrt(n)\n",
        "                   = 1.13 / sqrt(10)\n",
        "                   ≈ 0.36\n",
        "\n",
        "Step 4: Calculate the lower and upper bounds of the confidence interval:\n",
        "Lower bound = x̄ - (t-value * SE)\n",
        "           = 7.9 - (2.262 * 0.36)\n",
        "           ≈ 7.9 - 0.815\n",
        "           ≈ 7.085\n",
        "\n",
        "Upper bound = x̄ + (t-value * SE)\n",
        "           = 7.9 + (2.262 * 0.36)\n",
        "           ≈ 7.9 + 0.815\n",
        "           ≈ 8.715\n",
        "\n",
        "Step 5: Write the 95% confidence interval:\n",
        "The 95% confidence interval for the population mean satisfaction score is approximately [7.085, 8.715].\n",
        "\n",
        "This means we can be 95% confident that the true population mean satisfaction score falls within this interval based on the given sample."
      ],
      "metadata": {
        "id": "4CEbZvmPamoT"
      }
    },
    {
      "cell_type": "markdown",
      "source": [
        "14. Scenario: A company wants to analyze the effect of temperature on product performance. The data collected is as follows:\n",
        "    Temperature (in degrees Celsius): [20, 22, 23, 19, 21]\n",
        "    Performance (on a scale of 1 to 10): [8, 7, 9, 6, 8]\n",
        "    Perform a simple linear regression to predict performance based on temperature."
      ],
      "metadata": {
        "id": "18d0UvRdas4j"
      }
    },
    {
      "cell_type": "markdown",
      "source": [
        "To perform a simple linear regression and predict performance based on temperature, we can use the least squares method.\n",
        "\n",
        "The temperature data (in degrees Celsius) is: [20, 22, 23, 19, 21]\n",
        "The performance data (on a scale of 1 to 10) is: [8, 7, 9, 6, 8]\n",
        "\n",
        "Step 1: Calculate the means for both datasets:\n",
        "Mean of temperature (μX) = (20 + 22 + 23 + 19 + 21) / 5 = 105 / 5 = 21\n",
        "Mean of performance (μY) = (8 + 7 + 9 + 6 + 8) / 5 = 38 / 5 = 7.6\n",
        "\n",
        "Step 2: Calculate the deviations from the mean for both datasets:\n",
        "Deviation of temperature (Xi - μX):\n",
        "[-1, 1, 2, -2, 0]\n",
        "Deviation of performance (Yi - μY):\n",
        "[0.4, -0.6, 1.4, -1.6, 0.4]\n",
        "\n",
        "Step 3: Calculate the product of the deviations:\n",
        "Product of deviations (Xi - μX)(Yi - μY):\n",
        "[0, -0.6, 2.8, 3.2, 0]\n",
        "\n",
        "Step 4: Calculate the squared deviations of temperature:\n",
        "Squared deviation of temperature (Xi - μX)^2:\n",
        "[1, 1, 4, 4, 0]\n",
        "\n",
        "Step 5: Calculate the sum of squared deviations of temperature:\n",
        "Sum of squared deviation of temperature:\n",
        "1 + 1 + 4 + 4 + 0 = 10\n",
        "\n",
        "Step 6: Calculate the product of deviations divided by the squared deviations of temperature:\n",
        "Sum of (Xi - μX)(Yi - μY) / (Xi - μX)^2:\n",
        "(0 + (-0.6) + 2.8 + 3.2 + 0) / (1 + 1 + 4 + 4 + 0)\n",
        "= 5.4 / 10\n",
        "= 0.54\n",
        "\n",
        "Step 7: Calculate the slope (β1) of the linear regression line:\n",
        "β1 = Sum of (Xi - μX)(Yi - μY) / Sum of (Xi - μX)^2\n",
        "   = 0.54\n",
        "\n",
        "Step 8: Calculate the y-intercept (β0) of the linear regression line:\n",
        "β0 = μY - β1 * μX\n",
        "   = 7.6 - (0.54 * 21)\n",
        "   = 7.6 - 11.34\n",
        "   ≈ -3.74\n",
        "\n",
        "Therefore, the linear regression equation to predict performance based on temperature is:\n",
        "Performance = -3.74 + 0.54 * Temperature\n",
        "\n",
        "By plugging in the values of temperature, you can predict performance levels based on the given linear regression model."
      ],
      "metadata": {
        "id": "k6_eUs9wazHS"
      }
    },
    {
      "cell_type": "markdown",
      "source": [
        "15. Scenario: A study is conducted to compare the preferences of two groups of participants. The preferences are measured on a Likert scale from 1 to 5. The data collected is as follows:\n",
        "    Group A: [4, 3, 5, 2, 4]\n",
        "    Group B: [3, 2, 4, 3, 3]\n",
        "    Perform a Mann-Whitney U test to determine if there is a significant difference in the median preferences between the two groups."
      ],
      "metadata": {
        "id": "GeFyTfF2a3T5"
      }
    },
    {
      "cell_type": "markdown",
      "source": [
        "To perform a Mann-Whitney U test and determine if there is a significant difference in the median preferences between two groups, we can use the Mann-Whitney U test (also known as the Wilcoxon rank-sum test).\n",
        "\n",
        "The preferences data for Group A are: [4, 3, 5, 2, 4]\n",
        "The preferences data for Group B are: [3, 2, 4, 3, 3]\n",
        "\n",
        "Step 1: Combine the preferences data for both groups and assign ranks to each observation. If there are ties, assign the average rank:\n",
        "Combined data: [4, 3, 5, 2, 4, 3, 2, 4, 3, 3]\n",
        "\n",
        "Ranks: [7, 4.5, 10, 1, 7, 4.5, 1, 7, 4.5, 4.5]\n",
        "\n",
        "Step 2: Calculate the sum of ranks for each group:\n",
        "Sum of ranks for Group A (RA) = 7 + 4.5 + 10 + 1 + 7 = 29.5\n",
        "Sum of ranks for Group B (RB) = 4.5 + 1 + 7 + 4.5 + 4.5 = 22\n",
        "\n",
        "Step 3: Calculate the U statistic for each group:\n",
        "U statistic for Group A (UA) = n1 * n2 + (n1 * (n1 + 1)) / 2 - RA\n",
        "                            = 5 * 5 + (5 * (5 + 1)) / 2 - 29.5\n",
        "                            = 25 + (5 * 6) / 2 - 29.5\n",
        "                            = 25 + 15 / 2 - 29.5\n",
        "                            = 25 + 7.5 - 29.5\n",
        "                            = 25 - 22\n",
        "                            = 3\n",
        "\n",
        "U statistic for Group B (UB) = n1 * n2 + (n2 * (n2 + 1)) / 2 - RB\n",
        "                            = 5 * 5 + (5 * (5 + 1)) / 2 - 22\n",
        "                            = 25 + (5 * 6) / 2 - 22\n",
        "                            = 25 + 15 / 2 - 22\n",
        "                            = 25 + 7.5 - 22\n",
        "                            = 25 - 14.5\n",
        "                            = 10.5\n",
        "\n",
        "Step 4: Determine the smaller U statistic as Umin:\n",
        "Umin = min(UA, UB)\n",
        "     = min(3, 10.5)\n",
        "     = 3\n",
        "\n",
        "Step 5: Calculate the critical value of U at a chosen significance level (e.g., α = 0.05) based on the sample sizes (n1, n2). The critical value can be obtained from the Mann-Whitney U distribution table or statistical software.\n",
        "\n",
        "In this case, with n1 = 5 and n2 = 5, the critical value of U at α = 0.05 is 5.\n",
        "\n",
        "Step 6: Compare Umin with the critical value to make a decision:\n",
        "Since Umin (3) is less than the critical value (5), we reject the null hypothesis.\n",
        "\n",
        "Step 7: Draw a conclusion:\n",
        "Based on the Mann-Whitney U test, there is a significant difference in the median preferences between Group A and Group B.\n",
        "\n",
        "Therefore, we can conclude that there is evidence to suggest that the two groups have different median preferences."
      ],
      "metadata": {
        "id": "Dj0YTy7TbDNC"
      }
    },
    {
      "cell_type": "markdown",
      "source": [
        "16. Scenario: A company wants to analyze the distribution of customer ages. The data collected is as follows:\n",
        "    [25, 30, 35, 40, 45, 50, 55, 60, 65, 70]\n",
        "    Calculate the interquartile range (IQR) of the ages."
      ],
      "metadata": {
        "id": "jgcJAFg0bIdy"
      }
    },
    {
      "cell_type": "markdown",
      "source": [
        "To calculate the interquartile range (IQR) of the ages, you need to find the values of the first quartile (Q1) and the third quartile (Q3) of the data.\n",
        "\n",
        "The age data is: [25, 30, 35, 40, 45, 50, 55, 60, 65, 70]\n",
        "\n",
        "Step 1: Sort the data in ascending order:\n",
        "[25, 30, 35, 40, 45, 50, 55, 60, 65, 70]\n",
        "\n",
        "Step 2: Find the position of the first quartile (Q1):\n",
        "Q1 position = (25% / 100%) * (n + 1)\n",
        "            = (0.25) * (10 + 1)\n",
        "            = 2.75\n",
        "\n",
        "Since the position 2.75 is between the 2nd and 3rd values in the dataset, we take the average of these two values to determine Q1:\n",
        "Q1 = (30 + 35) / 2\n",
        "   = 65 / 2\n",
        "   = 32.5\n",
        "\n",
        "Step 3: Find the position of the third quartile (Q3):\n",
        "Q3 position = (75% / 100%) * (n + 1)\n",
        "            = (0.75) * (10 + 1)\n",
        "            = 8.25\n",
        "\n",
        "Since the position 8.25 is between the 8th and 9th values in the dataset, we take the average of these two values to determine Q3:\n",
        "Q3 = (60 + 65) / 2\n",
        "   = 125 / 2\n",
        "   = 62.5\n",
        "\n",
        "Step 4: Calculate the interquartile range (IQR):\n",
        "IQR = Q3 - Q1\n",
        "    = 62.5 - 32.5\n",
        "    = 30\n",
        "\n",
        "Therefore, the interquartile range (IQR) of the ages is 30. This means that the middle 50% of the age data falls within a range of 30."
      ],
      "metadata": {
        "id": "xuBjRGLSbf7J"
      }
    },
    {
      "cell_type": "markdown",
      "source": [
        "17. Scenario: A study is conducted to compare the performance of three different machine learning algorithms. The accuracy scores for each algorithm are as follows:\n",
        "    Algorithm A: [0.85, 0.80, 0.82, 0.87, 0.83]\n",
        "    Algorithm B: [0.78, 0.82, 0.84, 0.80, 0.79]\n",
        "    Algorithm C: [0.90, 0.88, 0.89, 0.86, 0.87]\n",
        "    Perform a Kruskal-Wallis test to determine if there is a significant difference in the median accuracy scores between the algorithms."
      ],
      "metadata": {
        "id": "H1F3mUI0bmsI"
      }
    },
    {
      "cell_type": "markdown",
      "source": [
        "To perform a Kruskal-Wallis test and determine if there is a significant difference in the median accuracy scores between the three algorithms, we can use the Kruskal-Wallis H test.\n",
        "\n",
        "The accuracy scores for Algorithm A are: [0.85, 0.80, 0.82, 0.87, 0.83]\n",
        "The accuracy scores for Algorithm B are: [0.78, 0.82, 0.84, 0.80, 0.79]\n",
        "The accuracy scores for Algorithm C are: [0.90, 0.88, 0.89, 0.86, 0.87]\n",
        "\n",
        "Step 1: Combine the accuracy scores for all three algorithms:\n",
        "Combined data: [0.85, 0.80, 0.82, 0.87, 0.83, 0.78, 0.82, 0.84, 0.80, 0.79, 0.90, 0.88, 0.89, 0.86, 0.87]\n",
        "\n",
        "Step 2: Assign ranks to each observation in the combined data. If there are ties, assign the average rank:\n",
        "Ranks: [12.5, 4.5, 7, 15, 9.5, 2, 7, 10, 4.5, 2.5, 17.5, 13, 16, 11, 14]\n",
        "\n",
        "Step 3: Calculate the sum of ranks for each algorithm:\n",
        "Sum of ranks for Algorithm A (RA) = 12.5 + 4.5 + 7 + 15 + 9.5 = 49\n",
        "Sum of ranks for Algorithm B (RB) = 2 + 7 + 10 + 4.5 + 2.5 = 26\n",
        "Sum of ranks for Algorithm C (RC) = 17.5 + 13 + 16 + 11 + 14 = 71.5\n",
        "\n",
        "Step 4: Calculate the sample sizes (n1, n2, n3) for each algorithm:\n",
        "n1 = 5 (number of accuracy scores for Algorithm A)\n",
        "n2 = 5 (number of accuracy scores for Algorithm B)\n",
        "n3 = 5 (number of accuracy scores for Algorithm C)\n",
        "\n",
        "Step 5: Calculate the Kruskal-Wallis H statistic:\n",
        "H = (12 * (n1 + n2 + n3 + 1) / (n1 * n2 * n3)) * ((RA^2 / n1) + (RB^2 / n2) + (RC^2 / n3)) - 3 * (n1 + n2 + n3 + 1)\n",
        "  = (12 * (5 + 5 + 5 + 1) / (5 * 5 * 5)) * ((49^2 / 5) + (26^2 / 5) + (71.5^2 / 5)) - 3 * (5 + 5 + 5 + 1)\n",
        "  = (12 * 16 / 125) * (2401 / 5 + 676 / 5 + 5100.25 / 5) - 3 * 16\n",
        "  ≈ 1.536 * (480.2 + 135.2 + 1020.05) - 48\n",
        "  ≈ 1.536 * 1635.45 - 48\n",
        "  ≈ 2513.78 - 48\n",
        "  ≈ 2465.78\n",
        "\n",
        "Step 6: Determine the critical value of H at a chosen significance level (e.g., α = 0.05) based on the number of algorithms (k) and the sample sizes (n1, n2, n3). The critical value can be obtained from the Kruskal-Wallis distribution table or statistical software.\n",
        "\n",
        "In this case, with k = 3 and n1 = n2 = n3 = 5, the critical value of H at α = 0.05 is approximately 5.991.\n",
        "\n",
        "Step 7: Compare the calculated H statistic with the critical value to make a decision:\n",
        "Since the calculated H statistic (2465.78) is greater than the critical value (5.991), we reject the null hypothesis.\n",
        "\n",
        "Step 8: Draw a conclusion:\n",
        "Based on the Kruskal-Wallis test, there is a significant difference in the median accuracy scores between the three algorithms.\n",
        "\n",
        "Therefore, we can conclude that there is evidence to suggest that at least one of the algorithms has a different median accuracy score compared to the others."
      ],
      "metadata": {
        "id": "k9eBsvTJbzMh"
      }
    },
    {
      "cell_type": "markdown",
      "source": [
        "18. Scenario: A company wants to analyze the effect of price on sales. The data collected is as follows:\n",
        "    Price (in dollars): [10, 15, 12, 8, 14]\n",
        "    Sales: [100, 80, 90, 110, 95]\n",
        "    Perform a simple linear regression to predict\n",
        "\n",
        " sales based on price."
      ],
      "metadata": {
        "id": "zg0YTwGwb5Y_"
      }
    },
    {
      "cell_type": "markdown",
      "source": [
        "To perform a simple linear regression and predict sales based on price, we can use the least squares method.\n",
        "\n",
        "The price data (in dollars) is: [10, 15, 12, 8, 14]\n",
        "The sales data is: [100, 80, 90, 110, 95]\n",
        "\n",
        "Step 1: Calculate the means for both datasets:\n",
        "Mean of price (μX) = (10 + 15 + 12 + 8 + 14) / 5 = 59 / 5 = 11.8\n",
        "Mean of sales (μY) = (100 + 80 + 90 + 110 + 95) / 5 = 475 / 5 = 95\n",
        "\n",
        "Step 2: Calculate the deviations from the mean for both datasets:\n",
        "Deviation of price (Xi - μX):\n",
        "[-1.8, 3.2, 0.2, -3.8, 2.2]\n",
        "Deviation of sales (Yi - μY):\n",
        "[5, -15, -5, 15, 0]\n",
        "\n",
        "Step 3: Calculate the product of the deviations:\n",
        "Product of deviations (Xi - μX)(Yi - μY):\n",
        "[-9, -48, -1, -57, 0]\n",
        "\n",
        "Step 4: Calculate the squared deviations of price:\n",
        "Squared deviation of price (Xi - μX)^2:\n",
        "[3.24, 10.24, 0.04, 14.44, 4.84]\n",
        "\n",
        "Step 5: Calculate the sum of squared deviations of price:\n",
        "Sum of squared deviation of price:\n",
        "3.24 + 10.24 + 0.04 + 14.44 + 4.84 = 33.8\n",
        "\n",
        "Step 6: Calculate the product of deviations divided by the squared deviations of price:\n",
        "Sum of (Xi - μX)(Yi - μY) / (Xi - μX)^2:\n",
        "(-9 + -48 + -1 + -57 + 0) / (3.24 + 10.24 + 0.04 + 14.44 + 4.84)\n",
        "= -115 / 33.8\n",
        "= -3.4\n",
        "\n",
        "Step 7: Calculate the slope (β1) of the linear regression line:\n",
        "β1 = Sum of (Xi - μX)(Yi - μY) / Sum of (Xi - μX)^2\n",
        "   = -3.4 / 33.8\n",
        "   ≈ -0.10\n",
        "\n",
        "Step 8: Calculate the y-intercept (β0) of the linear regression line:\n",
        "β0 = μY - β1 * μX\n",
        "   = 95 - (-0.10 * 11.8)\n",
        "   ≈ 96.23\n",
        "\n",
        "Therefore, the linear regression equation to predict sales based on price is:\n",
        "Sales = 96.23 - 0.10 * Price\n",
        "\n",
        "By plugging in the values of price, you can predict sales based on the given linear regression model."
      ],
      "metadata": {
        "id": "XAvSc7BscB_4"
      }
    },
    {
      "cell_type": "markdown",
      "source": [
        "19. Scenario: A survey is conducted to measure the satisfaction levels of customers with a new product. The data collected is as follows:\n",
        "    [7, 8, 9, 6, 8, 7, 9, 7, 8, 7]\n",
        "    Calculate the standard error of the mean satisfaction score."
      ],
      "metadata": {
        "id": "5vjdU7QYcJdI"
      }
    },
    {
      "cell_type": "markdown",
      "source": [
        "To calculate the standard error of the mean satisfaction score, you need to use the following formula:\n",
        "\n",
        "Standard error (SE) = Standard deviation (SD) / √(sample size)\n",
        "\n",
        "The satisfaction score data is: [7, 8, 9, 6, 8, 7, 9, 7, 8, 7]\n",
        "\n",
        "Step 1: Calculate the mean (x̄) of the satisfaction scores:\n",
        "Mean (x̄) = (7 + 8 + 9 + 6 + 8 + 7 + 9 + 7 + 8 + 7) / 10 = 76 / 10 = 7.6\n",
        "\n",
        "Step 2: Calculate the deviations from the mean for each satisfaction score:\n",
        "Deviations = [7-7.6, 8-7.6, 9-7.6, 6-7.6, 8-7.6, 7-7.6, 9-7.6, 7-7.6, 8-7.6, 7-7.6]\n",
        "           = [-0.6, 0.4, 1.4, -1.6, 0.4, -0.6, 1.4, -0.6, 0.4, -0.6]\n",
        "\n",
        "Step 3: Calculate the squared deviations:\n",
        "Squared deviations = [(-0.6)^2, 0.4^2, 1.4^2, (-1.6)^2, 0.4^2, (-0.6)^2, 1.4^2, (-0.6)^2, 0.4^2, (-0.6)^2]\n",
        "                   = [0.36, 0.16, 1.96, 2.56, 0.16, 0.36, 1.96, 0.36, 0.16, 0.36]\n",
        "\n",
        "Step 4: Calculate the sum of squared deviations:\n",
        "Sum of squared deviations = 0.36 + 0.16 + 1.96 + 2.56 + 0.16 + 0.36 + 1.96 + 0.36 + 0.16 + 0.36\n",
        "                          = 9.68\n",
        "\n",
        "Step 5: Calculate the variance (s^2) of the satisfaction scores:\n",
        "Variance (s^2) = Sum of squared deviations / (sample size - 1)\n",
        "               = 9.68 / (10 - 1)\n",
        "               = 1.0756\n",
        "\n",
        "Step 6: Calculate the standard deviation (SD) of the satisfaction scores:\n",
        "Standard deviation (SD) = √(variance)\n",
        "                        = √(1.0756)\n",
        "                        ≈ 1.037\n",
        "\n",
        "Step 7: Calculate the standard error (SE) of the mean satisfaction score:\n",
        "Standard error (SE) = Standard deviation (SD) / √(sample size)\n",
        "                    = 1.037 / √(10)\n",
        "                    = 0.328\n",
        "\n",
        "Therefore, the standard error of the mean satisfaction score is approximately 0.328."
      ],
      "metadata": {
        "id": "UYNgvcoWcQMS"
      }
    },
    {
      "cell_type": "markdown",
      "source": [
        "20. Scenario: A company wants to analyze the relationship between advertising expenditure and sales. The data collected is as follows:\n",
        "    Advertising Expenditure (in thousands): [10, 15, 12, 8, 14]\n",
        "    Sales (in thousands): [25, 30, 28, 20, 26]\n",
        "    Perform a multiple regression analysis to predict sales based on advertising expenditure.\n"
      ],
      "metadata": {
        "id": "V2MGtJIwcU9Q"
      }
    },
    {
      "cell_type": "markdown",
      "source": [
        "To perform a multiple regression analysis and predict sales based on advertising expenditure, we need to use the least squares method.\n",
        "\n",
        "The advertising expenditure data (in thousands) is: [10, 15, 12, 8, 14]\n",
        "The sales data (in thousands) is: [25, 30, 28, 20, 26]\n",
        "\n",
        "Step 1: Set up the regression model equation:\n",
        "Sales = β0 + β1 * Advertising Expenditure\n",
        "\n",
        "Step 2: Calculate the means for both datasets:\n",
        "Mean of Advertising Expenditure (μX) = (10 + 15 + 12 + 8 + 14) / 5 = 59 / 5 = 11.8\n",
        "Mean of Sales (μY) = (25 + 30 + 28 + 20 + 26) / 5 = 129 / 5 = 25.8\n",
        "\n",
        "Step 3: Calculate the deviations from the mean for both datasets:\n",
        "Deviation of Advertising Expenditure (Xi - μX):\n",
        "[-1.8, 3.2, 0.2, -3.8, 2.2]\n",
        "Deviation of Sales (Yi - μY):\n",
        "[-0.8, 4.2, 2.2, -5.8, 0.2]\n",
        "\n",
        "Step 4: Calculate the product of the deviations:\n",
        "Product of deviations (Xi - μX)(Yi - μY):\n",
        "[1.44, -7.36, 0.44, 22.04, 0.44]\n",
        "\n",
        "Step 5: Calculate the squared deviations of Advertising Expenditure:\n",
        "Squared deviation of Advertising Expenditure (Xi - μX)^2:\n",
        "[3.24, 10.24, 0.04, 14.44, 4.84]\n",
        "\n",
        "Step 6: Calculate the sum of squared deviations of Advertising Expenditure:\n",
        "Sum of squared deviation of Advertising Expenditure:\n",
        "3.24 + 10.24 + 0.04 + 14.44 + 4.84 = 33.8\n",
        "\n",
        "Step 7: Calculate the product of deviations divided by the squared deviations of Advertising Expenditure:\n",
        "Sum of (Xi - μX)(Yi - μY) / (Xi - μX)^2:\n",
        "(1.44 + -7.36 + 0.44 + 22.04 + 0.44) / (3.24 + 10.24 + 0.04 + 14.44 + 4.84)\n",
        "= 17.2 / 33.8\n",
        "= 0.509\n",
        "\n",
        "Step 8: Calculate the slope (β1) of the multiple regression line:\n",
        "β1 = Sum of (Xi - μX)(Yi - μY) / Sum of (Xi - μX)^2\n",
        "   = 0.509\n",
        "\n",
        "Step 9: Calculate the y-intercept (β0) of the multiple regression line:\n",
        "β0 = μY - β1 * μX\n",
        "   = 25.8 - (0.509 * 11.8)\n",
        "   = 25.8 - 6.01\n",
        "   ≈ 19.79\n",
        "\n",
        "Therefore, the multiple regression equation to predict sales based on advertising expenditure is:\n",
        "Sales = 19.79 + 0.509 * Advertising Expenditure\n",
        "\n",
        "By plugging in the values of advertising expenditure, you can predict sales based on the given multiple regression model."
      ],
      "metadata": {
        "id": "lz8B3Xt5ccrY"
      }
    },
    {
      "cell_type": "code",
      "execution_count": null,
      "metadata": {
        "id": "1giQaPLmW0zG"
      },
      "outputs": [],
      "source": []
    }
  ]
}