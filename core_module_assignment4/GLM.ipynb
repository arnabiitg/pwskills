{
  "nbformat": 4,
  "nbformat_minor": 0,
  "metadata": {
    "colab": {
      "provenance": []
    },
    "kernelspec": {
      "name": "python3",
      "display_name": "Python 3"
    },
    "language_info": {
      "name": "python"
    }
  },
  "cells": [
    {
      "cell_type": "markdown",
      "source": [
        "1. What is the purpose of the General Linear Model (GLM)?"
      ],
      "metadata": {
        "id": "lhrvi612VpSZ"
      }
    },
    {
      "cell_type": "markdown",
      "source": [
        "  The purpose of the General Linear Model (GLM) is to analyze and model relationships between dependent variables and one or more independent variables. It is a flexible and widely used statistical framework that encompasses a broad range of statistical models, including linear regression, analysis of variance (ANOVA), analysis of covariance (ANCOVA), and logistic regression."
      ],
      "metadata": {
        "id": "mFKSkr5oWMnK"
      }
    },
    {
      "cell_type": "markdown",
      "source": [
        "2. What are the key assumptions of the General Linear Model?"
      ],
      "metadata": {
        "id": "Gm3gPC50Wa6B"
      }
    },
    {
      "cell_type": "markdown",
      "source": [
        "The key assumptions are :\n",
        "Linearity,  Independence, Homoscedasticiity, no Multicollinearity, Normality"
      ],
      "metadata": {
        "id": "Zb_K1vB9WhPa"
      }
    },
    {
      "cell_type": "markdown",
      "source": [
        "3. How do you interpret the coefficients in a GLM?"
      ],
      "metadata": {
        "id": "w7LAZkEpXFKx"
      }
    },
    {
      "cell_type": "markdown",
      "source": [
        "We can run t-tests on the individual coefficients to interpret the importance of the  predictor variables in predicting the target variable"
      ],
      "metadata": {
        "id": "8xw8KU4LXIvC"
      }
    },
    {
      "cell_type": "markdown",
      "source": [
        "4. What is the difference between a univariate and multivariate GLM?"
      ],
      "metadata": {
        "id": "23qokGWbXxv4"
      }
    },
    {
      "cell_type": "markdown",
      "source": [
        "In multivariate GLM we use multiple features to formulate the GLM. Whereas in case of univariate GLM we use a single feature to formulate thr GLM for the target variable."
      ],
      "metadata": {
        "id": "20MUA55lX2jJ"
      }
    },
    {
      "cell_type": "markdown",
      "source": [
        "5. Explain the concept of interaction effects in a GLM."
      ],
      "metadata": {
        "id": "Sgx6ab4NYRLX"
      }
    },
    {
      "cell_type": "markdown",
      "source": [
        "In a General Linear Model (GLM), interaction effects occur when the relationship between the dependent variable and an independent variable depends on the levels of another independent variable.\n",
        "The interactions can be multiplicative meaning multiple of two numerical features can be meaningful in getting a good prediction with GLM.\n",
        "Also, it can be additive.\n",
        "This is an important event to consider while doing the feature engineering for the GLM."
      ],
      "metadata": {
        "id": "iRQiaQs2Yn-Q"
      }
    },
    {
      "cell_type": "markdown",
      "source": [
        "6. How do you handle categorical predictors in a GLM?"
      ],
      "metadata": {
        "id": "srbX0R_wZTnG"
      }
    },
    {
      "cell_type": "markdown",
      "source": [
        "Handling categorical predictors in a General Linear Model (GLM) involves converting them into a suitable numerical form. It can be done by various means such as One-hot encoding- in case of non ordinal categories, ordinal Encoding- in case of ordinal categories. Also it can be done in many other specififc ways depending upon the use case."
      ],
      "metadata": {
        "id": "qWlnr7R7Zkam"
      }
    },
    {
      "cell_type": "markdown",
      "source": [
        "7. What is the purpose of the design matrix in a GLM?"
      ],
      "metadata": {
        "id": "ujnbfs7daSLu"
      }
    },
    {
      "cell_type": "markdown",
      "source": [
        "The design matrix is a matrix that organizes the data in a GLM. It contains the independent variables (predictors) and their corresponding values for each observation. Each column in the design matrix represents a predictor, and each row represents an observation.\n",
        "The purpose of the design matrix in a General Linear Model (GLM) is to represent the relationship between the independent variables and the dependent variable. It helps to calculate the regression coefficients by usinng OLS or Gradient descent of the data."
      ],
      "metadata": {
        "id": "jWZzmMY9akF-"
      }
    },
    {
      "cell_type": "markdown",
      "source": [
        "8. How do you test the significance of predictors in a GLM?"
      ],
      "metadata": {
        "id": "NbWCly6Zbqc9"
      }
    },
    {
      "cell_type": "markdown",
      "source": [
        "For a single predictor t-test can be used  and for multiple predictors we can use f-test."
      ],
      "metadata": {
        "id": "896d6cuYbro2"
      }
    },
    {
      "cell_type": "markdown",
      "source": [
        "9. What is the difference between Type I, Type II, and Type III sums of squares in a GLM?"
      ],
      "metadata": {
        "id": "2wqsDwqccJVt"
      }
    },
    {
      "cell_type": "markdown",
      "source": [
        "In a General Linear Model (GLM), Type I, Type II, and Type III sums of squares are different methods for partitioning the sum of squares into components associated with each predictor..\n",
        "Type I sums of squares: Type I sums of squares assess the unique contribution of each predictor to the model's variability while taking into account the order in which predictors are entered into the model.\n",
        "Type II sums of squares: Type II sums of squares assess the unique contribution of each predictor to the model's variability without considering the order of predictor entry.\n",
        "Type III sums of squares: Type III sums of squares assess the unique contribution of each predictor to the model's variability while adjusting for all other predictors in the model. It means that the sums of squares for each predictor are computed after accounting for the effects of all other predictors simultaneously."
      ],
      "metadata": {
        "id": "qcIzF693c5V0"
      }
    },
    {
      "cell_type": "markdown",
      "source": [
        "10. Explain the concept of deviance in a GLM."
      ],
      "metadata": {
        "id": "UJMpftt7fV97"
      }
    },
    {
      "cell_type": "markdown",
      "source": [
        "Deviance is derived from the concept of the likelihood function in GLMs. The likelihood function quantifies how likely the observed data are given the model's predicted values. Deviance is calculated as minus twice the log-likelihood (-2 log-likelihood) and provides a measure of the model's goodness of fit."
      ],
      "metadata": {
        "id": "WnTH_I0KfYYa"
      }
    },
    {
      "cell_type": "code",
      "source": [],
      "metadata": {
        "id": "ItZlUhW-VqE1"
      },
      "execution_count": null,
      "outputs": []
    }
  ]
}