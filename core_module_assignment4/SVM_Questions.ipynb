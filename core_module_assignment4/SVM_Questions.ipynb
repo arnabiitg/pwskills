{
  "nbformat": 4,
  "nbformat_minor": 0,
  "metadata": {
    "colab": {
      "provenance": []
    },
    "kernelspec": {
      "name": "python3",
      "display_name": "Python 3"
    },
    "language_info": {
      "name": "python"
    }
  },
  "cells": [
    {
      "cell_type": "markdown",
      "source": [
        "51. What is Support Vector Machines (SVM) and how does it work?\n"
      ],
      "metadata": {
        "id": "pLzjar52ktUT"
      }
    },
    {
      "cell_type": "markdown",
      "source": [
        "Support Vector Machines (SVM) is a supervised machine learning algorithm used for classification and regression tasks. It works by finding the optimal hyperplane that separates data points of different classes or predicts the value of a continuous target variable. SVM aims to maximize the margin, which is the distance between the hyperplane and the nearest data points of each class."
      ],
      "metadata": {
        "id": "atn4LyWPktW5"
      }
    },
    {
      "cell_type": "markdown",
      "source": [
        "52. How does the kernel trick work in SVM?\n"
      ],
      "metadata": {
        "id": "RC4awFfJktZl"
      }
    },
    {
      "cell_type": "markdown",
      "source": [
        "The kernel trick in SVM allows for the efficient computation of the dot product between data points in a higher-dimensional feature space without explicitly performing the transformation. It avoids the computational cost of explicitly mapping the data to higher dimensions. The kernel function measures the similarity between data points, enabling SVM to handle non-linear relationships and create non-linear decision boundaries in the original feature space."
      ],
      "metadata": {
        "id": "eZ6Y8zurktcF"
      }
    },
    {
      "cell_type": "markdown",
      "source": [
        "53. What are support vectors in SVM and why are they important?"
      ],
      "metadata": {
        "id": "LyVvDjXskt5A"
      }
    },
    {
      "cell_type": "markdown",
      "source": [
        "Support vectors in SVM are the data points that lie closest to the decision boundary (hyperplane). They are the critical data points that contribute to defining the decision boundary and have an impact on the model's generalization ability. Support vectors are important because they determine the margin, influence the classification of new data points, and represent the most informative instances for the model."
      ],
      "metadata": {
        "id": "LFzax8cXkt9v"
      }
    },
    {
      "cell_type": "markdown",
      "source": [
        "54. Explain the concept of the margin in SVM and its impact on model performance."
      ],
      "metadata": {
        "id": "nC4rtZRAkuCw"
      }
    },
    {
      "cell_type": "markdown",
      "source": [
        "The margin in SVM is the region between the decision boundary and the support vectors. A larger margin indicates a more generalized model with better separation between classes. SVM aims to find the hyperplane with the maximum margin as it improves the model's ability to classify unseen data accurately. A larger margin provides more tolerance to outliers and reduces the risk of overfitting by allowing for some misclassifications."
      ],
      "metadata": {
        "id": "joBuZRdwkuH3"
      }
    },
    {
      "cell_type": "markdown",
      "source": [
        "55. How do you handle unbalanced datasets in SVM?"
      ],
      "metadata": {
        "id": "Sa7RKnGWkuNG"
      }
    },
    {
      "cell_type": "markdown",
      "source": [
        "Handling unbalanced datasets in SVM can be done through techniques such as:\n",
        "\n",
        " 1. Adjusting class weights: Assigning higher weights to the minority class during training to increase its influence on the model.\n",
        " 2. Oversampling: Creating synthetic examples for the minority class to increase its representation in the dataset.\n",
        " 3. Undersampling: Randomly removing examples from the majority class to reduce its dominance.\n",
        " 4. Using different evaluation metrics: Instead of accuracy, consider metrics like precision, recall, or F1 score that provide a more comprehensive assessment of performance in imbalanced datasets."
      ],
      "metadata": {
        "id": "vGodf6pbkuRf"
      }
    },
    {
      "cell_type": "markdown",
      "source": [
        "56. What is the difference between linear SVM and non-linear SVM?"
      ],
      "metadata": {
        "id": "7firViWikuWV"
      }
    },
    {
      "cell_type": "markdown",
      "source": [
        "Linear SVM creates a linear decision boundary to separate classes using a linear combination of the input features. It works well when the data is linearly separable. Non-linear SVM uses the kernel trick to implicitly transform the data into a higher-dimensional feature space, allowing the creation of non-linear decision boundaries. It can capture complex relationships between features and is more flexible in handling data that is not linearly separable."
      ],
      "metadata": {
        "id": "Ygs52mb1kubR"
      }
    },
    {
      "cell_type": "markdown",
      "source": [
        "57. What is the role of C-parameter in SVM and how does it affect the decision boundary?"
      ],
      "metadata": {
        "id": "iCtOXTAukufu"
      }
    },
    {
      "cell_type": "markdown",
      "source": [
        "The C-parameter in SVM is a regularization parameter that controls the trade-off between achieving a wider margin and allowing misclassifications. A smaller C value allows for a wider margin and permits more misclassifications, promoting simplicity and better generalization. A larger C value puts more emphasis on correctly classifying all training examples, potentially resulting in a narrower margin and higher risk of overfitting to the training data."
      ],
      "metadata": {
        "id": "-E7jzLPkkupm"
      }
    },
    {
      "cell_type": "markdown",
      "source": [
        "58. Explain the concept of slack variables in SVM.\n"
      ],
      "metadata": {
        "id": "0k8O-voYkuw1"
      }
    },
    {
      "cell_type": "markdown",
      "source": [
        "Slack variables, also known as \"epsilon\" variables, are introduced in SVM to handle cases where the data is not linearly separable. They allow for some misclassifications or data points within the margin. The slack variables measure the degree to which a data point violates the margin or is misclassified. By introducing slack variables, SVM allows for a soft margin, relaxing the constraints of perfect separation and accommodating more complex or noisy data."
      ],
      "metadata": {
        "id": "6vUtNU6Bku3C"
      }
    },
    {
      "cell_type": "markdown",
      "source": [
        "59. What is the difference between hard margin and soft margin in SVM?\n"
      ],
      "metadata": {
        "id": "gLM6Xj0Nku87"
      }
    },
    {
      "cell_type": "markdown",
      "source": [
        "In SVM, hard margin refers to the case where no misclassifications are allowed, and the decision boundary is required to perfectly separate the classes. Hard margin SVM works well only when the data is linearly separable. Soft margin SVM allows for some misclassifications and violations of the margin, which makes it more robust to noisy data or when perfect separation is not possible. Soft margin SVM provides better generalization to unseen data and can handle overlapping classes or outliers."
      ],
      "metadata": {
        "id": "hoqbTwUBkvC9"
      }
    },
    {
      "cell_type": "markdown",
      "source": [
        "60. How do you interpret the coefficients in an SVM model?\n"
      ],
      "metadata": {
        "id": "WNU_P8XwkvJG"
      }
    },
    {
      "cell_type": "markdown",
      "source": [
        "The coefficients in an SVM model represent the weights assigned to the features in the decision-making process. They indicate the importance of each feature in determining the position and orientation of the decision boundary. Larger coefficients indicate more influential features, while smaller coefficients suggest less impact on the classification outcome. By analyzing the coefficients, one can interpret the relative importance of each feature and understand which features contribute more to the classification decision."
      ],
      "metadata": {
        "id": "lCY6XrcekvO6"
      }
    },
    {
      "cell_type": "code",
      "source": [],
      "metadata": {
        "id": "S7B2xJPXltjt"
      },
      "execution_count": null,
      "outputs": []
    }
  ]
}