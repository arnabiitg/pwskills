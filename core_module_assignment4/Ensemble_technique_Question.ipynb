{
  "nbformat": 4,
  "nbformat_minor": 0,
  "metadata": {
    "colab": {
      "provenance": []
    },
    "kernelspec": {
      "name": "python3",
      "display_name": "Python 3"
    },
    "language_info": {
      "name": "python"
    }
  },
  "cells": [
    {
      "cell_type": "markdown",
      "source": [
        "71. What are ensemble techniques in machine learning?\n"
      ],
      "metadata": {
        "id": "JYfqFL_in3Ql"
      }
    },
    {
      "cell_type": "markdown",
      "source": [
        "Ensemble techniques in machine learning combine multiple models to create a stronger and more accurate predictive model. Rather than relying on a single model, ensemble methods leverage the diversity and aggregation of multiple models to improve overall performance, increase generalization, and reduce overfitting."
      ],
      "metadata": {
        "id": "ipnh7NOhn3U6"
      }
    },
    {
      "cell_type": "markdown",
      "source": [
        "72. What is bagging and how is it used in ensemble learning?\n"
      ],
      "metadata": {
        "id": "E0u-qjSfn3dg"
      }
    },
    {
      "cell_type": "markdown",
      "source": [
        "Bagging, short for bootstrap aggregating, is an ensemble technique where multiple models are trained on different bootstrap samples of the training data. Each model is trained independently, and their predictions are combined by averaging or voting to make the final prediction. Bagging helps to reduce the variance and improve the stability of the model by reducing the impact of individual instances in the training data."
      ],
      "metadata": {
        "id": "7kOoSNIGn3iL"
      }
    },
    {
      "cell_type": "markdown",
      "source": [
        "73. Explain the concept of bootstrapping in bagging."
      ],
      "metadata": {
        "id": "S64db51kn3pm"
      }
    },
    {
      "cell_type": "markdown",
      "source": [
        "Bootstrapping in bagging involves randomly sampling the training data with replacement to create multiple bootstrap samples. Each bootstrap sample has the same size as the original training data but may contain duplicates and variations. This process allows each model in the bagging ensemble to be trained on a different subset of the data, introducing diversity in the training process."
      ],
      "metadata": {
        "id": "1tA2muz2n3uB"
      }
    },
    {
      "cell_type": "markdown",
      "source": [
        "74. What is boosting and how does it work?\n"
      ],
      "metadata": {
        "id": "e81iskrxn31x"
      }
    },
    {
      "cell_type": "markdown",
      "source": [
        "Boosting is an ensemble technique that combines weak learners (models with performance slightly better than random guessing) to create a strong learner. It works by iteratively training models on different subsets of the training data, where each subsequent model focuses on correcting the errors made by the previous models. Boosting assigns higher weights to misclassified instances, making subsequent models pay more attention to those instances. The final prediction is made by aggregating the predictions of all the weak learners."
      ],
      "metadata": {
        "id": "WQs3YGOGn36X"
      }
    },
    {
      "cell_type": "markdown",
      "source": [
        "75. What is the difference between AdaBoost and Gradient Boosting?\n"
      ],
      "metadata": {
        "id": "K-OuFq18n4EI"
      }
    },
    {
      "cell_type": "markdown",
      "source": [
        "AdaBoost (Adaptive Boosting) and Gradient Boosting are both boosting algorithms but differ in certain aspects:\n",
        "\n",
        "1. AdaBoost adjusts the weights of the training instances at each iteration to give more importance to misclassified instances, focusing on difficult-to-classify cases.\n",
        "2. Gradient Boosting builds models sequentially, optimizing a differentiable loss function by using gradients. It fits subsequent models to the residuals of the previous models, gradually reducing the errors in the prediction."
      ],
      "metadata": {
        "id": "fBOqm9amn4Ic"
      }
    },
    {
      "cell_type": "markdown",
      "source": [
        "76. What is the purpose of random forests in ensemble learning?"
      ],
      "metadata": {
        "id": "psqfzRMKn4PQ"
      }
    },
    {
      "cell_type": "markdown",
      "source": [
        "Random forests are an ensemble technique that combines multiple decision trees through bagging. Each tree is trained on a random subset of the features, and the final prediction is made by aggregating the predictions of all the trees. Random forests improve the accuracy and robustness of the model by reducing overfitting and capturing the collective knowledge of multiple decision trees."
      ],
      "metadata": {
        "id": "5SmY1Ot9n4Tw"
      }
    },
    {
      "cell_type": "markdown",
      "source": [
        "77. How do random forests handle feature importance?"
      ],
      "metadata": {
        "id": "chQlaj23n4d4"
      }
    },
    {
      "cell_type": "markdown",
      "source": [
        "Random forests determine feature importance by measuring the average decrease in impurity or information gain caused by each feature in the trees. The importance of a feature is calculated by summing the individual feature importances across all the trees. Features that lead to the greatest decrease in impurity or information gain are considered more important, indicating their relevance in making predictions."
      ],
      "metadata": {
        "id": "BOdScw2-n4iN"
      }
    },
    {
      "cell_type": "markdown",
      "source": [
        "78. What is stacking in ensemble learning and how does it work?"
      ],
      "metadata": {
        "id": "cj-yo_65n4rG"
      }
    },
    {
      "cell_type": "markdown",
      "source": [
        "Stacking, also known as stacked generalization, is an ensemble technique where multiple models are trained to make predictions, and their outputs are then used as inputs to a meta-model, which provides the final prediction. The meta-model learns to combine the predictions of the individual models, effectively leveraging the strengths of each model. Stacking can be done in multiple levels, where multiple layers of models and a final meta-model are used."
      ],
      "metadata": {
        "id": "XpYr5z1Tn4wa"
      }
    },
    {
      "cell_type": "markdown",
      "source": [
        "79. What are the advantages and disadvantages of ensemble techniques?\n"
      ],
      "metadata": {
        "id": "1lDyFScLn46D"
      }
    },
    {
      "cell_type": "markdown",
      "source": [
        "Advantages of ensemble techniques include improved prediction accuracy, better generalization, and reduced overfitting. Ensemble methods can handle complex relationships in the data, capture diverse patterns, and are robust to noise. However, ensemble techniques can be computationally expensive, require more data for training, and may be harder to interpret than individual models."
      ],
      "metadata": {
        "id": "Lts2pgbXn4-F"
      }
    },
    {
      "cell_type": "markdown",
      "source": [
        "80. How do you choose the optimal number of models in an ensemble?\n",
        "\n"
      ],
      "metadata": {
        "id": "yCLKyKdJn5F4"
      }
    },
    {
      "cell_type": "markdown",
      "source": [
        "The optimal number of models in an ensemble depends on the specific problem, the complexity of the data, and the computational resources available. Adding more models to the ensemble can improve performance up to a certain point, beyond which the benefits diminish. The optimal number of models can be determined through cross-validation or by monitoring the performance on a validation set. It is important to strike a balance between model diversity and computational complexity when choosing the number of models in an ensemble."
      ],
      "metadata": {
        "id": "k39akfMdn5KG"
      }
    }
  ]
}